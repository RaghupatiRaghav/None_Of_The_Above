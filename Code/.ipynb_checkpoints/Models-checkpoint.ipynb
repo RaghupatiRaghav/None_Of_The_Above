{
 "cells": [
  {
   "cell_type": "code",
   "execution_count": 2,
   "metadata": {},
   "outputs": [],
   "source": [
    "#imports modules \n",
    "import pandas as pd\n",
    "import numpy as np\n",
    "import re\n",
    "import os\n",
    "import warnings\n",
    "import seaborn as sns\n",
    "import matplotlib.pyplot as plt\n",
    "warnings.filterwarnings('ignore')\n",
    "import scipy.stats as stats\n",
    "import sklearn\n",
    "from statsmodels.miscmodels.ordinal_model import OrderedModel\n",
    "from sklearn.linear_model import LinearRegression\n",
    "from sklearn.model_selection import train_test_split\n",
    "from sklearn.ensemble import RandomForestClassifier\n",
    "from sklearn.metrics import accuracy_score, confusion_matrix, classification_report\n",
    "from sklearn.metrics import (confusion_matrix, \n",
    "                           accuracy_score)\n",
    "import scipy.stats"
   ]
  },
  {
   "cell_type": "code",
   "execution_count": 3,
   "metadata": {},
   "outputs": [],
   "source": [
    "#defines parent_directory\n",
    "parent_dir = r'D:\\MSE\\Dissertation\\Rebirth\\NOTA_Github_publication\\\\'"
   ]
  },
  {
   "cell_type": "code",
   "execution_count": 4,
   "metadata": {},
   "outputs": [
    {
     "name": "stdout",
     "output_type": "stream",
     "text": [
      "(63529, 66)\n"
     ]
    },
    {
     "data": {
      "text/html": [
       "<div>\n",
       "<style scoped>\n",
       "    .dataframe tbody tr th:only-of-type {\n",
       "        vertical-align: middle;\n",
       "    }\n",
       "\n",
       "    .dataframe tbody tr th {\n",
       "        vertical-align: top;\n",
       "    }\n",
       "\n",
       "    .dataframe thead th {\n",
       "        text-align: right;\n",
       "    }\n",
       "</style>\n",
       "<table border=\"1\" class=\"dataframe\">\n",
       "  <thead>\n",
       "    <tr style=\"text-align: right;\">\n",
       "      <th></th>\n",
       "      <th>uni_const_code</th>\n",
       "      <th>gen/state</th>\n",
       "      <th>State_Name</th>\n",
       "      <th>state_code_new</th>\n",
       "      <th>Constituency_Name</th>\n",
       "      <th>Constituency_Type</th>\n",
       "      <th>Constituency_No</th>\n",
       "      <th>Assembly_No</th>\n",
       "      <th>Year</th>\n",
       "      <th>month</th>\n",
       "      <th>...</th>\n",
       "      <th>n_ind_w_nota</th>\n",
       "      <th>n_ind_wo_nota</th>\n",
       "      <th>cum_voteshare_perc_ind_nota</th>\n",
       "      <th>position_election_wrt_ind</th>\n",
       "      <th>index</th>\n",
       "      <th>zi</th>\n",
       "      <th>final_check_1up</th>\n",
       "      <th>position_on_evm_ind_lstmrkr</th>\n",
       "      <th>position_on_evm_ind_lstbut1mrkr</th>\n",
       "      <th>position_on_evm_ind_lstbut2mrkr</th>\n",
       "    </tr>\n",
       "  </thead>\n",
       "  <tbody>\n",
       "    <tr>\n",
       "      <th>0</th>\n",
       "      <td>0|1|1</td>\n",
       "      <td>0</td>\n",
       "      <td>Jammu_&amp;_Kashmir</td>\n",
       "      <td>1</td>\n",
       "      <td>BARAMULLA</td>\n",
       "      <td>GEN</td>\n",
       "      <td>1</td>\n",
       "      <td>15</td>\n",
       "      <td>2009</td>\n",
       "      <td>4</td>\n",
       "      <td>...</td>\n",
       "      <td>2</td>\n",
       "      <td>2</td>\n",
       "      <td>1.77</td>\n",
       "      <td>2</td>\n",
       "      <td>0</td>\n",
       "      <td>-0.251412</td>\n",
       "      <td>True</td>\n",
       "      <td>1</td>\n",
       "      <td>1234567</td>\n",
       "      <td>1234567</td>\n",
       "    </tr>\n",
       "    <tr>\n",
       "      <th>1</th>\n",
       "      <td>0|1|1</td>\n",
       "      <td>0</td>\n",
       "      <td>Jammu_&amp;_Kashmir</td>\n",
       "      <td>1</td>\n",
       "      <td>BARAMULLA</td>\n",
       "      <td>GEN</td>\n",
       "      <td>1</td>\n",
       "      <td>15</td>\n",
       "      <td>2009</td>\n",
       "      <td>4</td>\n",
       "      <td>...</td>\n",
       "      <td>2</td>\n",
       "      <td>2</td>\n",
       "      <td>1.77</td>\n",
       "      <td>1</td>\n",
       "      <td>1</td>\n",
       "      <td>0.251412</td>\n",
       "      <td>False</td>\n",
       "      <td>12345678</td>\n",
       "      <td>12345678</td>\n",
       "      <td>12345678</td>\n",
       "    </tr>\n",
       "    <tr>\n",
       "      <th>2</th>\n",
       "      <td>0|1|1</td>\n",
       "      <td>0</td>\n",
       "      <td>Jammu_&amp;_Kashmir</td>\n",
       "      <td>1</td>\n",
       "      <td>BARAMULLA</td>\n",
       "      <td>GEN</td>\n",
       "      <td>1</td>\n",
       "      <td>16</td>\n",
       "      <td>2014</td>\n",
       "      <td>4</td>\n",
       "      <td>...</td>\n",
       "      <td>8</td>\n",
       "      <td>7</td>\n",
       "      <td>11.03</td>\n",
       "      <td>6</td>\n",
       "      <td>2</td>\n",
       "      <td>-0.054284</td>\n",
       "      <td>True</td>\n",
       "      <td>1</td>\n",
       "      <td>1</td>\n",
       "      <td>1</td>\n",
       "    </tr>\n",
       "    <tr>\n",
       "      <th>3</th>\n",
       "      <td>0|1|1</td>\n",
       "      <td>0</td>\n",
       "      <td>Jammu_&amp;_Kashmir</td>\n",
       "      <td>1</td>\n",
       "      <td>BARAMULLA</td>\n",
       "      <td>GEN</td>\n",
       "      <td>1</td>\n",
       "      <td>16</td>\n",
       "      <td>2014</td>\n",
       "      <td>4</td>\n",
       "      <td>...</td>\n",
       "      <td>8</td>\n",
       "      <td>7</td>\n",
       "      <td>11.03</td>\n",
       "      <td>2</td>\n",
       "      <td>3</td>\n",
       "      <td>0.017339</td>\n",
       "      <td>True</td>\n",
       "      <td>2</td>\n",
       "      <td>2</td>\n",
       "      <td>2</td>\n",
       "    </tr>\n",
       "    <tr>\n",
       "      <th>4</th>\n",
       "      <td>0|1|1</td>\n",
       "      <td>0</td>\n",
       "      <td>Jammu_&amp;_Kashmir</td>\n",
       "      <td>1</td>\n",
       "      <td>BARAMULLA</td>\n",
       "      <td>GEN</td>\n",
       "      <td>1</td>\n",
       "      <td>16</td>\n",
       "      <td>2014</td>\n",
       "      <td>4</td>\n",
       "      <td>...</td>\n",
       "      <td>8</td>\n",
       "      <td>7</td>\n",
       "      <td>11.03</td>\n",
       "      <td>8</td>\n",
       "      <td>4</td>\n",
       "      <td>-0.086922</td>\n",
       "      <td>True</td>\n",
       "      <td>3</td>\n",
       "      <td>3</td>\n",
       "      <td>3</td>\n",
       "    </tr>\n",
       "  </tbody>\n",
       "</table>\n",
       "<p>5 rows × 66 columns</p>\n",
       "</div>"
      ],
      "text/plain": [
       "  uni_const_code  gen/state       State_Name  state_code_new  \\\n",
       "0          0|1|1          0  Jammu_&_Kashmir               1   \n",
       "1          0|1|1          0  Jammu_&_Kashmir               1   \n",
       "2          0|1|1          0  Jammu_&_Kashmir               1   \n",
       "3          0|1|1          0  Jammu_&_Kashmir               1   \n",
       "4          0|1|1          0  Jammu_&_Kashmir               1   \n",
       "\n",
       "  Constituency_Name Constituency_Type  Constituency_No  Assembly_No  Year  \\\n",
       "0         BARAMULLA               GEN                1           15  2009   \n",
       "1         BARAMULLA               GEN                1           15  2009   \n",
       "2         BARAMULLA               GEN                1           16  2014   \n",
       "3         BARAMULLA               GEN                1           16  2014   \n",
       "4         BARAMULLA               GEN                1           16  2014   \n",
       "\n",
       "   month  ...  n_ind_w_nota  n_ind_wo_nota cum_voteshare_perc_ind_nota  \\\n",
       "0      4  ...             2              2                        1.77   \n",
       "1      4  ...             2              2                        1.77   \n",
       "2      4  ...             8              7                       11.03   \n",
       "3      4  ...             8              7                       11.03   \n",
       "4      4  ...             8              7                       11.03   \n",
       "\n",
       "  position_election_wrt_ind index        zi final_check_1up  \\\n",
       "0                         2     0 -0.251412            True   \n",
       "1                         1     1  0.251412           False   \n",
       "2                         6     2 -0.054284            True   \n",
       "3                         2     3  0.017339            True   \n",
       "4                         8     4 -0.086922            True   \n",
       "\n",
       "   position_on_evm_ind_lstmrkr  position_on_evm_ind_lstbut1mrkr  \\\n",
       "0                            1                          1234567   \n",
       "1                     12345678                         12345678   \n",
       "2                            1                                1   \n",
       "3                            2                                2   \n",
       "4                            3                                3   \n",
       "\n",
       "  position_on_evm_ind_lstbut2mrkr  \n",
       "0                         1234567  \n",
       "1                        12345678  \n",
       "2                               1  \n",
       "3                               2  \n",
       "4                               3  \n",
       "\n",
       "[5 rows x 66 columns]"
      ]
     },
     "execution_count": 4,
     "metadata": {},
     "output_type": "execute_result"
    }
   ],
   "source": [
    "#Reading data\n",
    "finding_salient = pd.read_csv(parent_dir + r'Analysis\\finding_salient_int_2.csv')\n",
    "print(finding_salient.shape)\n",
    "finding_salient.head()"
   ]
  },
  {
   "cell_type": "markdown",
   "metadata": {
    "tags": []
   },
   "source": [
    "# Ordinal logistic regression"
   ]
  },
  {
   "cell_type": "code",
   "execution_count": 4,
   "metadata": {},
   "outputs": [],
   "source": [
    "#preparing data for modelling\n",
    "model_data = finding_salient[['position_on_evm_ind','position_election_wrt_ind','pre_post_nota_ind']]"
   ]
  },
  {
   "cell_type": "code",
   "execution_count": 5,
   "metadata": {},
   "outputs": [],
   "source": [
    "X_train, X_test, y_train, y_test = train_test_split(model_data[['position_on_evm_ind', 'pre_post_nota_ind']], model_data['position_election_wrt_ind'], test_size=0.50)"
   ]
  },
  {
   "cell_type": "code",
   "execution_count": 6,
   "metadata": {},
   "outputs": [],
   "source": [
    "#implementing the model\n",
    "mod_prob = OrderedModel(y_train,\n",
    "                        X_train,\n",
    "                        distr='logit')"
   ]
  },
  {
   "cell_type": "code",
   "execution_count": 9,
   "metadata": {},
   "outputs": [],
   "source": [
    "res_prob = mod_prob.fit(method='bfgs')"
   ]
  },
  {
   "cell_type": "code",
   "execution_count": 11,
   "metadata": {},
   "outputs": [],
   "source": [
    "summ = res_prob.summary()\n",
    "summ"
   ]
  },
  {
   "cell_type": "markdown",
   "metadata": {},
   "source": [
    "# Simple Linear Regression Model"
   ]
  },
  {
   "cell_type": "code",
   "execution_count": 79,
   "metadata": {},
   "outputs": [],
   "source": [
    "#modelling vote share of independent candidate\n",
    "model_data_reg = finding_salient[['Vote_Share_Percentage','position_on_evm_ind','pre_post_nota_ind','N_Cand','Turnout_Percentage']].dropna()"
   ]
  },
  {
   "cell_type": "code",
   "execution_count": 122,
   "metadata": {},
   "outputs": [],
   "source": [
    "model_data_reg.drop(columns = {'position_on_evm_interaction'}, inplace = True)"
   ]
  },
  {
   "cell_type": "code",
   "execution_count": 103,
   "metadata": {},
   "outputs": [],
   "source": [
    "model_data_reg['interaction_position_prepost'] = model_data_reg['pre_post_nota_ind'] * model_data_reg['position_on_evm_ind']"
   ]
  },
  {
   "cell_type": "code",
   "execution_count": 123,
   "metadata": {},
   "outputs": [],
   "source": [
    "model_data_reg.to_csv(r\"D:\\MSE\\Dissertation\\Rebirth\\NOTA_Github_publication\\Analysis\\models\\model_data_reg.csv\", index = False)"
   ]
  },
  {
   "cell_type": "code",
   "execution_count": 115,
   "metadata": {},
   "outputs": [],
   "source": [
    "X_train, X_test, y_train, y_test = train_test_split(model_data_reg[['position_on_evm_ind','N_Cand','Turnout_Percentage','interaction_position_prepost']], model_data_reg['Vote_Share_Percentage'], test_size=0.02)"
   ]
  },
  {
   "cell_type": "code",
   "execution_count": 116,
   "metadata": {},
   "outputs": [],
   "source": [
    "reg = LinearRegression().fit(X_train, y_train)"
   ]
  },
  {
   "cell_type": "code",
   "execution_count": 117,
   "metadata": {},
   "outputs": [
    {
     "data": {
      "text/plain": [
       "0.011561650980160598"
      ]
     },
     "execution_count": 117,
     "metadata": {},
     "output_type": "execute_result"
    }
   ],
   "source": [
    "reg.score(X_train, y_train)"
   ]
  },
  {
   "cell_type": "code",
   "execution_count": 118,
   "metadata": {},
   "outputs": [
    {
     "data": {
      "text/plain": [
       "array([1.58239258, 1.79111317, 1.74614152, ..., 1.41101843, 1.67871115,\n",
       "       1.43214302])"
      ]
     },
     "execution_count": 118,
     "metadata": {},
     "output_type": "execute_result"
    }
   ],
   "source": [
    "reg.predict(X_test)"
   ]
  },
  {
   "cell_type": "code",
   "execution_count": 119,
   "metadata": {},
   "outputs": [
    {
     "data": {
      "text/plain": [
       "array([ 0.04318021, -0.04598352,  0.00789089, -0.02212065])"
      ]
     },
     "execution_count": 119,
     "metadata": {},
     "output_type": "execute_result"
    }
   ],
   "source": [
    "reg.coef_"
   ]
  },
  {
   "cell_type": "markdown",
   "metadata": {},
   "source": [
    "# Random Forest Model"
   ]
  },
  {
   "cell_type": "code",
   "execution_count": 4,
   "metadata": {},
   "outputs": [],
   "source": [
    "#preparing data for rf model, adding some new attributes\n",
    "finding_salient['Incumbent'] = finding_salient['Incumbent'].astype(int)\n",
    "finding_salient['Recontest'] = finding_salient['Recontest'].astype(int)"
   ]
  },
  {
   "cell_type": "code",
   "execution_count": 5,
   "metadata": {},
   "outputs": [
    {
     "name": "stdout",
     "output_type": "stream",
     "text": [
      "int32\n",
      "int32\n"
     ]
    }
   ],
   "source": [
    "#QC\n",
    "print(finding_salient.Recontest.dtype)\n",
    "print(finding_salient.Incumbent.dtype)\n",
    "#pass"
   ]
  },
  {
   "cell_type": "code",
   "execution_count": 6,
   "metadata": {},
   "outputs": [],
   "source": [
    "#making a variable for tagging only the winner\n",
    "finding_salient['winner_tag_ind'] = 9999\n",
    "finding_salient.loc[finding_salient['position_election_wrt_ind']==1, 'winner_tag_ind'] = 1\n",
    "finding_salient.loc[finding_salient['position_election_wrt_ind']!=1, 'winner_tag_ind'] = 0"
   ]
  },
  {
   "cell_type": "code",
   "execution_count": 7,
   "metadata": {},
   "outputs": [
    {
     "name": "stdout",
     "output_type": "stream",
     "text": [
      "(0, 67)\n"
     ]
    },
    {
     "data": {
      "text/html": [
       "<div>\n",
       "<style scoped>\n",
       "    .dataframe tbody tr th:only-of-type {\n",
       "        vertical-align: middle;\n",
       "    }\n",
       "\n",
       "    .dataframe tbody tr th {\n",
       "        vertical-align: top;\n",
       "    }\n",
       "\n",
       "    .dataframe thead th {\n",
       "        text-align: right;\n",
       "    }\n",
       "</style>\n",
       "<table border=\"1\" class=\"dataframe\">\n",
       "  <thead>\n",
       "    <tr style=\"text-align: right;\">\n",
       "      <th></th>\n",
       "      <th>winner_tag_ind</th>\n",
       "      <th>position_election_wrt_ind</th>\n",
       "    </tr>\n",
       "  </thead>\n",
       "  <tbody>\n",
       "    <tr>\n",
       "      <th>63519</th>\n",
       "      <td>0</td>\n",
       "      <td>9</td>\n",
       "    </tr>\n",
       "    <tr>\n",
       "      <th>63520</th>\n",
       "      <td>0</td>\n",
       "      <td>4</td>\n",
       "    </tr>\n",
       "    <tr>\n",
       "      <th>63521</th>\n",
       "      <td>0</td>\n",
       "      <td>3</td>\n",
       "    </tr>\n",
       "    <tr>\n",
       "      <th>63522</th>\n",
       "      <td>1</td>\n",
       "      <td>1</td>\n",
       "    </tr>\n",
       "    <tr>\n",
       "      <th>63523</th>\n",
       "      <td>0</td>\n",
       "      <td>8</td>\n",
       "    </tr>\n",
       "    <tr>\n",
       "      <th>63524</th>\n",
       "      <td>0</td>\n",
       "      <td>2</td>\n",
       "    </tr>\n",
       "    <tr>\n",
       "      <th>63525</th>\n",
       "      <td>0</td>\n",
       "      <td>3</td>\n",
       "    </tr>\n",
       "    <tr>\n",
       "      <th>63526</th>\n",
       "      <td>0</td>\n",
       "      <td>4</td>\n",
       "    </tr>\n",
       "    <tr>\n",
       "      <th>63527</th>\n",
       "      <td>1</td>\n",
       "      <td>1</td>\n",
       "    </tr>\n",
       "    <tr>\n",
       "      <th>63528</th>\n",
       "      <td>0</td>\n",
       "      <td>2</td>\n",
       "    </tr>\n",
       "  </tbody>\n",
       "</table>\n",
       "</div>"
      ],
      "text/plain": [
       "       winner_tag_ind  position_election_wrt_ind\n",
       "63519               0                          9\n",
       "63520               0                          4\n",
       "63521               0                          3\n",
       "63522               1                          1\n",
       "63523               0                          8\n",
       "63524               0                          2\n",
       "63525               0                          3\n",
       "63526               0                          4\n",
       "63527               1                          1\n",
       "63528               0                          2"
      ]
     },
     "execution_count": 7,
     "metadata": {},
     "output_type": "execute_result"
    }
   ],
   "source": [
    "#QC\n",
    "print(finding_salient[finding_salient['winner_tag_ind']==999].shape)\n",
    "finding_salient[['winner_tag_ind','position_election_wrt_ind']].tail(10)\n",
    "#pass"
   ]
  },
  {
   "cell_type": "code",
   "execution_count": 8,
   "metadata": {},
   "outputs": [],
   "source": [
    "#separate indicators for constituencies\n",
    "finding_salient['gen_const_ind'] = 9999\n",
    "finding_salient['sc_const_ind'] = 9999\n",
    "finding_salient['st_const_ind'] = 9999\n",
    "finding_salient['bl_const_ind'] = 9999\n",
    "finding_salient.loc[finding_salient['Constituency_Type']==\"GEN\", 'gen_const_ind'] = 1\n",
    "finding_salient.loc[finding_salient['Constituency_Type']!=\"GEN\", 'gen_const_ind'] = 0\n",
    "finding_salient.loc[finding_salient['Constituency_Type']==\"SC\", 'sc_const_ind'] = 1\n",
    "finding_salient.loc[finding_salient['Constituency_Type']!=\"SC\", 'sc_const_ind'] = 0\n",
    "finding_salient.loc[finding_salient['Constituency_Type']==\"ST\", 'st_const_ind'] = 1\n",
    "finding_salient.loc[finding_salient['Constituency_Type']!=\"ST\", 'st_const_ind'] = 0\n",
    "finding_salient.loc[finding_salient['Constituency_Type']==\"BL\", 'bl_const_ind'] = 1\n",
    "finding_salient.loc[finding_salient['Constituency_Type']!=\"BL\", 'bl_const_ind'] = 0"
   ]
  },
  {
   "cell_type": "code",
   "execution_count": 9,
   "metadata": {},
   "outputs": [],
   "source": [
    "finding_salient['const_ind'] = 9999\n",
    "finding_salient.loc[finding_salient['Constituency_Type']==\"GEN\", 'const_ind'] = 1\n",
    "finding_salient.loc[finding_salient['Constituency_Type']==\"SC\", 'const_ind'] = 2\n",
    "finding_salient.loc[finding_salient['Constituency_Type']==\"ST\", 'const_ind'] = 3\n",
    "finding_salient.loc[finding_salient['Constituency_Type']==\"BL\", 'const_ind'] = 4"
   ]
  },
  {
   "cell_type": "code",
   "execution_count": 10,
   "metadata": {},
   "outputs": [
    {
     "name": "stdout",
     "output_type": "stream",
     "text": [
      "(0, 72)\n"
     ]
    },
    {
     "data": {
      "text/html": [
       "<div>\n",
       "<style scoped>\n",
       "    .dataframe tbody tr th:only-of-type {\n",
       "        vertical-align: middle;\n",
       "    }\n",
       "\n",
       "    .dataframe tbody tr th {\n",
       "        vertical-align: top;\n",
       "    }\n",
       "\n",
       "    .dataframe thead th {\n",
       "        text-align: right;\n",
       "    }\n",
       "</style>\n",
       "<table border=\"1\" class=\"dataframe\">\n",
       "  <thead>\n",
       "    <tr style=\"text-align: right;\">\n",
       "      <th></th>\n",
       "      <th>Constituency_Type</th>\n",
       "      <th>gen_const_ind</th>\n",
       "      <th>sc_const_ind</th>\n",
       "      <th>st_const_ind</th>\n",
       "      <th>bl_const_ind</th>\n",
       "      <th>const_ind</th>\n",
       "    </tr>\n",
       "  </thead>\n",
       "  <tbody>\n",
       "    <tr>\n",
       "      <th>149</th>\n",
       "      <td>SC</td>\n",
       "      <td>0</td>\n",
       "      <td>1</td>\n",
       "      <td>0</td>\n",
       "      <td>0</td>\n",
       "      <td>2</td>\n",
       "    </tr>\n",
       "    <tr>\n",
       "      <th>150</th>\n",
       "      <td>SC</td>\n",
       "      <td>0</td>\n",
       "      <td>1</td>\n",
       "      <td>0</td>\n",
       "      <td>0</td>\n",
       "      <td>2</td>\n",
       "    </tr>\n",
       "    <tr>\n",
       "      <th>151</th>\n",
       "      <td>SC</td>\n",
       "      <td>0</td>\n",
       "      <td>1</td>\n",
       "      <td>0</td>\n",
       "      <td>0</td>\n",
       "      <td>2</td>\n",
       "    </tr>\n",
       "    <tr>\n",
       "      <th>152</th>\n",
       "      <td>SC</td>\n",
       "      <td>0</td>\n",
       "      <td>1</td>\n",
       "      <td>0</td>\n",
       "      <td>0</td>\n",
       "      <td>2</td>\n",
       "    </tr>\n",
       "    <tr>\n",
       "      <th>153</th>\n",
       "      <td>SC</td>\n",
       "      <td>0</td>\n",
       "      <td>1</td>\n",
       "      <td>0</td>\n",
       "      <td>0</td>\n",
       "      <td>2</td>\n",
       "    </tr>\n",
       "  </tbody>\n",
       "</table>\n",
       "</div>"
      ],
      "text/plain": [
       "    Constituency_Type  gen_const_ind  sc_const_ind  st_const_ind  \\\n",
       "149                SC              0             1             0   \n",
       "150                SC              0             1             0   \n",
       "151                SC              0             1             0   \n",
       "152                SC              0             1             0   \n",
       "153                SC              0             1             0   \n",
       "\n",
       "     bl_const_ind  const_ind  \n",
       "149             0          2  \n",
       "150             0          2  \n",
       "151             0          2  \n",
       "152             0          2  \n",
       "153             0          2  "
      ]
     },
     "execution_count": 10,
     "metadata": {},
     "output_type": "execute_result"
    }
   ],
   "source": [
    "#QC\n",
    "print(finding_salient[finding_salient['const_ind']==9999].shape)\n",
    "finding_salient[['Constituency_Type','gen_const_ind','sc_const_ind','st_const_ind','bl_const_ind','const_ind']][finding_salient['Constituency_Type']=='SC'].head()"
   ]
  },
  {
   "cell_type": "code",
   "execution_count": 11,
   "metadata": {},
   "outputs": [],
   "source": [
    "model_data_rf = finding_salient[['winner_tag_ind',\n",
    "                                 'position_on_evm_ind','pre_post_nota_ind','N_Cand',\n",
    "                                 'position_on_evm_ind_lstbut2mrkr',\n",
    "                                 'n_ind_w_nota','n_ind_wo_nota',\n",
    "                                 'Incumbent','Recontest',\n",
    "                                 'Party_ID','const_ind',\n",
    "                                 'gen_const_ind','sc_const_ind',\n",
    "                                 'st_const_ind','bl_const_ind']]"
   ]
  },
  {
   "cell_type": "code",
   "execution_count": 101,
   "metadata": {},
   "outputs": [],
   "source": [
    "X_train, X_test, y_train, y_test = train_test_split(model_data_rf[['pre_post_nota_ind','N_Cand','position_on_evm_ind_lstbut2mrkr','n_ind_w_nota','Party_ID','const_ind']], model_data_rf['winner_tag_ind'], test_size=0.10)"
   ]
  },
  {
   "cell_type": "code",
   "execution_count": 102,
   "metadata": {},
   "outputs": [
    {
     "name": "stderr",
     "output_type": "stream",
     "text": [
      "[Parallel(n_jobs=1)]: Using backend SequentialBackend with 1 concurrent workers.\n",
      "[Parallel(n_jobs=1)]: Done 500 out of 500 | elapsed:   18.8s finished\n"
     ]
    },
    {
     "data": {
      "text/plain": [
       "RandomForestClassifier(min_samples_leaf=3, min_samples_split=10,\n",
       "                       n_estimators=500, oob_score=True, verbose=1)"
      ]
     },
     "execution_count": 102,
     "metadata": {},
     "output_type": "execute_result"
    }
   ],
   "source": [
    "#random forest - main\n",
    "clf=RandomForestClassifier(n_estimators=500, min_samples_split = 10, min_samples_leaf= 3, oob_score = True, verbose = 1)\n",
    "clf.fit(X_train,y_train)"
   ]
  },
  {
   "cell_type": "code",
   "execution_count": 103,
   "metadata": {},
   "outputs": [
    {
     "data": {
      "image/png": "[encoded data removed]",
      "text/plain": [
       "<Figure size 432x288 with 1 Axes>"
      ]
     },
     "metadata": {
      "needs_background": "light"
     },
     "output_type": "display_data"
    }
   ],
   "source": [
    "#feature importance\n",
    "plt.barh(X_train.columns, clf.feature_importances_)\n",
    "plt.show()"
   ]
  },
  {
   "cell_type": "code",
   "execution_count": 104,
   "metadata": {},
   "outputs": [
    {
     "name": "stderr",
     "output_type": "stream",
     "text": [
      "[Parallel(n_jobs=1)]: Using backend SequentialBackend with 1 concurrent workers.\n"
     ]
    },
    {
     "name": "stdout",
     "output_type": "stream",
     "text": [
      "Accuracy Score on train:  0.8687386315936757\n",
      "Accuracy Score on oob data:  0.8639114313698055\n"
     ]
    },
    {
     "name": "stderr",
     "output_type": "stream",
     "text": [
      "[Parallel(n_jobs=1)]: Done 500 out of 500 | elapsed:    7.5s finished\n"
     ]
    }
   ],
   "source": [
    " print('Accuracy Score on train: ', clf.score(X_train, y_train))\n",
    "print('Accuracy Score on oob data: ', clf.oob_score_)"
   ]
  },
  {
   "cell_type": "code",
   "execution_count": 105,
   "metadata": {},
   "outputs": [
    {
     "name": "stderr",
     "output_type": "stream",
     "text": [
      "[Parallel(n_jobs=1)]: Using backend SequentialBackend with 1 concurrent workers.\n",
      "[Parallel(n_jobs=1)]: Done 500 out of 500 | elapsed:    0.9s finished\n"
     ]
    }
   ],
   "source": [
    "#prediction y for dev data \n",
    "y_pred_dev=clf.predict(X_test)"
   ]
  },
  {
   "cell_type": "code",
   "execution_count": 106,
   "metadata": {},
   "outputs": [
    {
     "data": {
      "text/plain": [
       "array([0, 0, 0, ..., 0, 0, 1], dtype=int64)"
      ]
     },
     "execution_count": 106,
     "metadata": {},
     "output_type": "execute_result"
    }
   ],
   "source": [
    "y_test = y_test.to_numpy()\n",
    "y_test"
   ]
  },
  {
   "cell_type": "code",
   "execution_count": 107,
   "metadata": {},
   "outputs": [
    {
     "name": "stdout",
     "output_type": "stream",
     "text": [
      "accuracy is: 0.8674641901463875\n",
      "precision is: 0.7220026350461133\n",
      "recall is: 0.46480067854113655\n"
     ]
    }
   ],
   "source": [
    "#calculating accuracy and other scores\n",
    "#calculating accuracy and other scores\n",
    "accuracy = accuracy_score(y_test, y_pred_dev)\n",
    "print('accuracy is: '+ str(accuracy))\n",
    "precision = sklearn.metrics.precision_score(y_test, y_pred_dev)\n",
    "print('precision is: '+ str(precision))\n",
    "#Precision: true winners/true winners + false winners or incorrectly labelled winenrs: basically out of all candidates I have classified as winners, how many are actually winners?\n",
    "#this means that out of all obese mice, the ones that I say are obese are highly likely to be obese. However, I am losing out on obese mice as well, ie, misclassifying\n",
    "#some obese mice as non-obese\n",
    "recall = sklearn.metrics.recall_score(y_test, y_pred_dev)\n",
    "print('recall is: '+ str(recall))\n",
    "#recall: true winners/true winners + false non-winners: basically out of all the actual winners, how many could I identify? This score is low meaning that there is \n",
    "#still a significant winner population whom I cannot capture."
   ]
  },
  {
   "cell_type": "code",
   "execution_count": 108,
   "metadata": {},
   "outputs": [
    {
     "data": {
      "text/plain": [
       "array([[4963,  211],\n",
       "       [ 631,  548]], dtype=int64)"
      ]
     },
     "execution_count": 108,
     "metadata": {},
     "output_type": "execute_result"
    }
   ],
   "source": [
    "cf_matrix = confusion_matrix(y_test, y_pred_dev) \n",
    "cf_matrix"
   ]
  },
  {
   "cell_type": "code",
   "execution_count": 109,
   "metadata": {},
   "outputs": [
    {
     "data": {
      "text/plain": [
       "<AxesSubplot:>"
      ]
     },
     "execution_count": 109,
     "metadata": {},
     "output_type": "execute_result"
    },
    {
     "data": {
      "image/png": "[encoded data removed]",
      "text/plain": [
       "<Figure size 432x288 with 2 Axes>"
      ]
     },
     "metadata": {
      "needs_background": "light"
     },
     "output_type": "display_data"
    }
   ],
   "source": [
    "group_names = ['True Neg','False Pos','False Neg','True Pos']\n",
    "\n",
    "group_counts = [\"{0:0.0f}\".format(value) for value in\n",
    "                cf_matrix.flatten()]\n",
    "\n",
    "group_percentages = [\"{0:.2%}\".format(value) for value in\n",
    "                     cf_matrix.flatten()/np.sum(cf_matrix)]\n",
    "\n",
    "labels = [f\"{v1}\\n{v2}\\n{v3}\" for v1, v2, v3 in\n",
    "          zip(group_names,group_counts,group_percentages)]\n",
    "\n",
    "labels = np.asarray(labels).reshape(2,2)\n",
    "\n",
    "sns.heatmap(cf_matrix, annot=labels, fmt='', cmap='Blues')"
   ]
  },
  {
   "cell_type": "markdown",
   "metadata": {},
   "source": [
    "## Logistic Regression"
   ]
  },
  {
   "cell_type": "code",
   "execution_count": 27,
   "metadata": {},
   "outputs": [],
   "source": [
    "model_data_logistic = finding_salient[['winner_tag_ind',\n",
    "                                 'position_on_evm_ind','pre_post_nota_ind','N_Cand',\n",
    "                                 'position_on_evm_ind_lstbut2mrkr',\n",
    "                                 'n_ind_w_nota','n_ind_wo_nota',\n",
    "                                 'Incumbent','Recontest',\n",
    "                                 'Party_ID','const_ind',\n",
    "                                 'gen_const_ind','sc_const_ind',\n",
    "                                 'st_const_ind','bl_const_ind']]"
   ]
  },
  {
   "cell_type": "code",
   "execution_count": 60,
   "metadata": {},
   "outputs": [],
   "source": [
    "X_train, X_test, y_train, y_test = train_test_split(model_data_rf[['pre_post_nota_ind','N_Cand','position_on_evm_ind_lstbut2mrkr','n_ind_w_nota','Incumbent','Recontest','Party_ID','sc_const_ind','st_const_ind']], model_data_rf['winner_tag_ind'], test_size=0.10)"
   ]
  },
  {
   "cell_type": "code",
   "execution_count": 83,
   "metadata": {},
   "outputs": [
    {
     "name": "stderr",
     "output_type": "stream",
     "text": [
      "[Parallel(n_jobs=-1)]: Using backend LokyBackend with 4 concurrent workers.\n",
      "[Parallel(n_jobs=-1)]: Done   1 out of   1 | elapsed:    4.1s finished\n"
     ]
    }
   ],
   "source": [
    "from sklearn.linear_model import LogisticRegression\n",
    "logistic_reg = LogisticRegression(penalty = 'none', multi_class = 'ovr', verbose = 2, n_jobs = -1).fit(X_train, y_train)"
   ]
  },
  {
   "cell_type": "code",
   "execution_count": 84,
   "metadata": {},
   "outputs": [
    {
     "data": {
      "text/plain": [
       "0.8427137260388975"
      ]
     },
     "execution_count": 84,
     "metadata": {},
     "output_type": "execute_result"
    }
   ],
   "source": [
    "logistic_reg.score(X_train, y_train)"
   ]
  },
  {
   "cell_type": "code",
   "execution_count": 85,
   "metadata": {},
   "outputs": [
    {
     "data": {
      "text/plain": [
       "array([[-1.23105166e-08, -3.41559924e-07,  1.53074816e-07,\n",
       "        -1.94424066e-07,  5.62005041e-11, -8.24447812e-10,\n",
       "        -2.03981702e-04, -1.85359280e-09, -6.01125373e-10]])"
      ]
     },
     "execution_count": 85,
     "metadata": {},
     "output_type": "execute_result"
    }
   ],
   "source": [
    "logistic_reg.coef_"
   ]
  },
  {
   "cell_type": "code",
   "execution_count": 86,
   "metadata": {},
   "outputs": [],
   "source": [
    "y_pred_dev=logistic_reg.predict(X_test)"
   ]
  },
  {
   "cell_type": "code",
   "execution_count": 87,
   "metadata": {},
   "outputs": [
    {
     "name": "stdout",
     "output_type": "stream",
     "text": [
      "Confusion Matrix : \n",
      " [[4885  279]\n",
      " [ 631  558]]\n",
      "Test accuracy =  0.8567605855501338\n",
      "precision is: 0.6666666666666666\n",
      "recall is: 0.4693019343986543\n"
     ]
    }
   ],
   "source": [
    "cf_matrix = confusion_matrix(y_test, y_pred_dev) \n",
    "print (\"Confusion Matrix : \\n\", cf_matrix) \n",
    "print('Test accuracy = ', accuracy_score(y_test, y_pred_dev))\n",
    "\n",
    "precision = sklearn.metrics.precision_score(y_test, y_pred_dev)\n",
    "print('precision is: '+ str(precision))\n",
    "\n",
    "recall = sklearn.metrics.recall_score(y_test, y_pred_dev)\n",
    "print('recall is: '+ str(recall))"
   ]
  },
  {
   "cell_type": "code",
   "execution_count": 88,
   "metadata": {},
   "outputs": [
    {
     "data": {
      "text/plain": [
       "<AxesSubplot:>"
      ]
     },
     "execution_count": 88,
     "metadata": {},
     "output_type": "execute_result"
    },
    {
     "data": {
      "image/png": "[encoded data removed]",
      "text/plain": [
       "<Figure size 432x288 with 2 Axes>"
      ]
     },
     "metadata": {
      "needs_background": "light"
     },
     "output_type": "display_data"
    }
   ],
   "source": [
    "group_names = ['True Neg','False Pos','False Neg','True Pos']\n",
    "\n",
    "group_counts = [\"{0:0.0f}\".format(value) for value in\n",
    "                cf_matrix.flatten()]\n",
    "\n",
    "group_percentages = [\"{0:.2%}\".format(value) for value in\n",
    "                     cf_matrix.flatten()/np.sum(cf_matrix)]\n",
    "\n",
    "labels = [f\"{v1}\\n{v2}\\n{v3}\" for v1, v2, v3 in\n",
    "          zip(group_names,group_counts,group_percentages)]\n",
    "\n",
    "labels = np.asarray(labels).reshape(2,2)\n",
    "\n",
    "sns.heatmap(cf_matrix, annot=labels, fmt='', cmap='Blues')"
   ]
  },
  {
   "cell_type": "markdown",
   "metadata": {},
   "source": [
    "before and after nota separate regression, last candidate is winner in so many cases before and post nota - include .  "
   ]
  },
  {
   "cell_type": "code",
   "execution_count": 65,
   "metadata": {},
   "outputs": [
    {
     "name": "stdout",
     "output_type": "stream",
     "text": [
      "Optimization terminated successfully.\n",
      "         Current function value: 0.370748\n",
      "         Iterations 7\n",
      "                           Logit Regression Results                           \n",
      "==============================================================================\n",
      "Dep. Variable:         winner_tag_ind   No. Observations:                57176\n",
      "Model:                          Logit   Df Residuals:                    57167\n",
      "Method:                           MLE   Df Model:                            8\n",
      "Date:                Thu, 16 Jun 2022   Pseudo R-squ.:                  0.2476\n",
      "Time:                        00:49:58   Log-Likelihood:                -21198.\n",
      "converged:                       True   LL-Null:                       -28173.\n",
      "Covariance Type:            nonrobust   LLR p-value:                     0.000\n",
      "===================================================================================================\n",
      "                                      coef    std err          z      P>|z|      [0.025      0.975]\n",
      "---------------------------------------------------------------------------------------------------\n",
      "pre_post_nota_ind                  -0.2023      0.024     -8.466      0.000      -0.249      -0.155\n",
      "N_Cand                              0.0091      0.004      2.160      0.031       0.001       0.017\n",
      "position_on_evm_ind_lstbut2mrkr  1.561e-07   2.05e-09     76.287      0.000    1.52e-07     1.6e-07\n",
      "n_ind_w_nota                       -0.1355      0.006    -21.044      0.000      -0.148      -0.123\n",
      "Incumbent                           2.3912      0.171     13.979      0.000       2.056       2.726\n",
      "Recontest                           0.7369      0.050     14.652      0.000       0.638       0.835\n",
      "Party_ID                           -0.0001   3.51e-06    -35.727      0.000      -0.000      -0.000\n",
      "sc_const_ind                        0.0912      0.036      2.502      0.012       0.020       0.163\n",
      "st_const_ind                        0.2677      0.045      5.911      0.000       0.179       0.356\n",
      "===================================================================================================\n"
     ]
    }
   ],
   "source": [
    "#using statsmodels\n",
    "import statsmodels.api as sm\n",
    "log_reg = sm.Logit(y_train, X_train, fit_intercept = True, missing = 'raise').fit()\n",
    "print(log_reg.summary())"
   ]
  },
  {
   "cell_type": "code",
   "execution_count": 71,
   "metadata": {},
   "outputs": [],
   "source": [
    "y_pred_dev_sm = list(map(round, log_reg.predict(X_test)))"
   ]
  },
  {
   "cell_type": "code",
   "execution_count": 81,
   "metadata": {},
   "outputs": [
    {
     "name": "stdout",
     "output_type": "stream",
     "text": [
      "Confusion Matrix : \n",
      " [[4834  330]\n",
      " [ 534  655]]\n",
      "Test accuracy =  0.8640012592475995\n",
      "precision is: 0.6649746192893401\n",
      "recall is: 0.5508830950378469\n"
     ]
    }
   ],
   "source": [
    "cf_matrix = confusion_matrix(y_test, y_pred_dev_sm) \n",
    "print (\"Confusion Matrix : \\n\", cf_matrix) \n",
    "print('Test accuracy = ', accuracy_score(y_test, y_pred_dev_sm))\n",
    "\n",
    "precision = sklearn.metrics.precision_score(y_test, y_pred_dev_sm)\n",
    "print('precision is: '+ str(precision))\n",
    "\n",
    "recall = sklearn.metrics.recall_score(y_test, y_pred_dev_sm)\n",
    "print('recall is: '+ str(recall))"
   ]
  },
  {
   "cell_type": "code",
   "execution_count": 80,
   "metadata": {},
   "outputs": [
    {
     "data": {
      "text/plain": [
       "<AxesSubplot:>"
      ]
     },
     "execution_count": 80,
     "metadata": {},
     "output_type": "execute_result"
    },
    {
     "data": {
      "image/png": "[encoded data removed]",
      "text/plain": [
       "<Figure size 432x288 with 2 Axes>"
      ]
     },
     "metadata": {
      "needs_background": "light"
     },
     "output_type": "display_data"
    }
   ],
   "source": [
    "group_names = ['True Neg','False Pos','False Neg','True Pos']\n",
    "\n",
    "group_counts = [\"{0:0.0f}\".format(value) for value in\n",
    "                cf_matrix.flatten()]\n",
    "\n",
    "group_percentages = [\"{0:.2%}\".format(value) for value in\n",
    "                     cf_matrix.flatten()/np.sum(cf_matrix)]\n",
    "\n",
    "labels = [f\"{v1}\\n{v2}\\n{v3}\" for v1, v2, v3 in\n",
    "          zip(group_names,group_counts,group_percentages)]\n",
    "\n",
    "labels = np.asarray(labels).reshape(2,2)\n",
    "\n",
    "sns.heatmap(cf_matrix, annot=labels, fmt='', cmap='Blues')"
   ]
  },
  {
   "cell_type": "code",
   "execution_count": 5,
   "metadata": {},
   "outputs": [
    {
     "data": {
      "text/plain": [
       "Index(['uni_const_code', 'gen/state', 'State_Name', 'state_code_new',\n",
       "       'Constituency_Name', 'Constituency_Type', 'Constituency_No',\n",
       "       'Assembly_No', 'Year', 'month', 'Poll_No', 'Position', 'Candidate',\n",
       "       'Sex', 'Party', 'Votes', 'Candidate_Type', 'Valid_Votes', 'Electors',\n",
       "       'Sub_Region', 'N_Cand', 'Turnout_Percentage', 'Vote_Share_Percentage',\n",
       "       'Deposit_Lost', 'Margin', 'Margin_Percentage', 'ENOP', 'pid',\n",
       "       'Party_Type_TCPD', 'Party_ID', 'last_poll', 'Contested', 'Last_Party',\n",
       "       'Last_Party_ID', 'Last_Constituency_Name', 'Same_Constituency',\n",
       "       'Same_Party', 'No_Terms', 'Turncoat', 'Incumbent', 'Recontest', 'Age',\n",
       "       'District_Name', 'PC_Name', 'PC_No', 'CandID', 'MyNeta_education',\n",
       "       'TCPD_Prof_Main', 'TCPD_Prof_Main_Desc', 'TCPD_Prof_Second',\n",
       "       'TCPD_Prof_Second_Desc', 'pre_post_nota_ind', 'uni_const_code_check',\n",
       "       'year_check', 'final_check', 'position_on_evm_ind', 'n_ind_w_nota',\n",
       "       'n_ind_wo_nota', 'cum_voteshare_perc_ind_nota',\n",
       "       'position_election_wrt_ind', 'index', 'zi', 'final_check_1up',\n",
       "       'position_on_evm_ind_lstmrkr', 'position_on_evm_ind_lstbut1mrkr',\n",
       "       'position_on_evm_ind_lstbut2mrkr'],\n",
       "      dtype='object')"
      ]
     },
     "execution_count": 5,
     "metadata": {},
     "output_type": "execute_result"
    }
   ],
   "source": [
    "finding_salient.columns"
   ]
  },
  {
   "cell_type": "markdown",
   "metadata": {},
   "source": [
    "## Test of proportions"
   ]
  },
  {
   "cell_type": "code",
   "execution_count": 22,
   "metadata": {},
   "outputs": [
    {
     "data": {
      "text/html": [
       "<div>\n",
       "<style scoped>\n",
       "    .dataframe tbody tr th:only-of-type {\n",
       "        vertical-align: middle;\n",
       "    }\n",
       "\n",
       "    .dataframe tbody tr th {\n",
       "        vertical-align: top;\n",
       "    }\n",
       "\n",
       "    .dataframe thead th {\n",
       "        text-align: right;\n",
       "    }\n",
       "</style>\n",
       "<table border=\"1\" class=\"dataframe\">\n",
       "  <thead>\n",
       "    <tr style=\"text-align: right;\">\n",
       "      <th></th>\n",
       "      <th>index</th>\n",
       "      <th>uni_const_code</th>\n",
       "      <th>Year</th>\n",
       "      <th>pre_post_nota_ind</th>\n",
       "      <th>n_ind_w_nota</th>\n",
       "      <th>zi</th>\n",
       "      <th>position_on_evm_ind</th>\n",
       "      <th>position_on_evm_ind_lstbut2mrkr</th>\n",
       "    </tr>\n",
       "  </thead>\n",
       "  <tbody>\n",
       "    <tr>\n",
       "      <th>0</th>\n",
       "      <td>0</td>\n",
       "      <td>0|1|1</td>\n",
       "      <td>2009</td>\n",
       "      <td>0</td>\n",
       "      <td>2</td>\n",
       "      <td>-0.251412</td>\n",
       "      <td>1</td>\n",
       "      <td>1234567</td>\n",
       "    </tr>\n",
       "    <tr>\n",
       "      <th>1</th>\n",
       "      <td>1</td>\n",
       "      <td>0|1|1</td>\n",
       "      <td>2009</td>\n",
       "      <td>0</td>\n",
       "      <td>2</td>\n",
       "      <td>0.251412</td>\n",
       "      <td>2</td>\n",
       "      <td>12345678</td>\n",
       "    </tr>\n",
       "    <tr>\n",
       "      <th>11</th>\n",
       "      <td>11</td>\n",
       "      <td>0|1|1</td>\n",
       "      <td>2019</td>\n",
       "      <td>1</td>\n",
       "      <td>4</td>\n",
       "      <td>-0.221582</td>\n",
       "      <td>2</td>\n",
       "      <td>123456</td>\n",
       "    </tr>\n",
       "    <tr>\n",
       "      <th>12</th>\n",
       "      <td>12</td>\n",
       "      <td>0|1|1</td>\n",
       "      <td>2019</td>\n",
       "      <td>1</td>\n",
       "      <td>4</td>\n",
       "      <td>-0.208141</td>\n",
       "      <td>3</td>\n",
       "      <td>1234567</td>\n",
       "    </tr>\n",
       "    <tr>\n",
       "      <th>13</th>\n",
       "      <td>13</td>\n",
       "      <td>0|1|1</td>\n",
       "      <td>2019</td>\n",
       "      <td>1</td>\n",
       "      <td>4</td>\n",
       "      <td>-0.181644</td>\n",
       "      <td>4</td>\n",
       "      <td>12345678</td>\n",
       "    </tr>\n",
       "  </tbody>\n",
       "</table>\n",
       "</div>"
      ],
      "text/plain": [
       "    index uni_const_code  Year  pre_post_nota_ind  n_ind_w_nota        zi  \\\n",
       "0       0          0|1|1  2009                  0             2 -0.251412   \n",
       "1       1          0|1|1  2009                  0             2  0.251412   \n",
       "11     11          0|1|1  2019                  1             4 -0.221582   \n",
       "12     12          0|1|1  2019                  1             4 -0.208141   \n",
       "13     13          0|1|1  2019                  1             4 -0.181644   \n",
       "\n",
       "    position_on_evm_ind  position_on_evm_ind_lstbut2mrkr  \n",
       "0                     1                          1234567  \n",
       "1                     2                         12345678  \n",
       "11                    2                           123456  \n",
       "12                    3                          1234567  \n",
       "13                    4                         12345678  "
      ]
     },
     "execution_count": 22,
     "metadata": {},
     "output_type": "execute_result"
    }
   ],
   "source": [
    "#subsetting the dataframe\n",
    "df_ttest = finding_salient[['index','uni_const_code','Year','pre_post_nota_ind','n_ind_w_nota','zi','position_on_evm_ind','position_on_evm_ind_lstbut2mrkr']][(finding_salient['n_ind_w_nota'].isin([2,3,4,5,6])) & (finding_salient['position_on_evm_ind_lstbut2mrkr'].isin([12345678,1234567,123456]))]\n",
    "df_ttest.head()"
   ]
  },
  {
   "cell_type": "code",
   "execution_count": 9,
   "metadata": {},
   "outputs": [
    {
     "data": {
      "text/html": [
       "<div>\n",
       "<style scoped>\n",
       "    .dataframe tbody tr th:only-of-type {\n",
       "        vertical-align: middle;\n",
       "    }\n",
       "\n",
       "    .dataframe tbody tr th {\n",
       "        vertical-align: top;\n",
       "    }\n",
       "\n",
       "    .dataframe thead th {\n",
       "        text-align: right;\n",
       "    }\n",
       "</style>\n",
       "<table border=\"1\" class=\"dataframe\">\n",
       "  <thead>\n",
       "    <tr style=\"text-align: right;\">\n",
       "      <th></th>\n",
       "      <th>n_ind_w_nota</th>\n",
       "      <th>position_on_evm_ind_lstbut2mrkr</th>\n",
       "      <th>count_pre</th>\n",
       "      <th>count_post</th>\n",
       "      <th>mean_zi_pre</th>\n",
       "      <th>mean_zi_post</th>\n",
       "      <th>var_zi_pre</th>\n",
       "      <th>var_zi_post</th>\n",
       "      <th>deg_free_pre</th>\n",
       "      <th>deg_free_post</th>\n",
       "      <th>nume</th>\n",
       "      <th>deno</th>\n",
       "      <th>t_stat</th>\n",
       "    </tr>\n",
       "  </thead>\n",
       "  <tbody>\n",
       "    <tr>\n",
       "      <th>1</th>\n",
       "      <td>2</td>\n",
       "      <td>12345678</td>\n",
       "      <td>627</td>\n",
       "      <td>1036</td>\n",
       "      <td>0.057981</td>\n",
       "      <td>0.074292</td>\n",
       "      <td>0.061057</td>\n",
       "      <td>0.050542</td>\n",
       "      <td>626</td>\n",
       "      <td>1035</td>\n",
       "      <td>0.016311</td>\n",
       "      <td>0.012098</td>\n",
       "      <td>1.348213</td>\n",
       "    </tr>\n",
       "    <tr>\n",
       "      <th>4</th>\n",
       "      <td>3</td>\n",
       "      <td>12345678</td>\n",
       "      <td>576</td>\n",
       "      <td>1118</td>\n",
       "      <td>0.051068</td>\n",
       "      <td>0.116012</td>\n",
       "      <td>0.051256</td>\n",
       "      <td>0.045261</td>\n",
       "      <td>575</td>\n",
       "      <td>1117</td>\n",
       "      <td>0.064944</td>\n",
       "      <td>0.011387</td>\n",
       "      <td>5.703398</td>\n",
       "    </tr>\n",
       "    <tr>\n",
       "      <th>7</th>\n",
       "      <td>4</td>\n",
       "      <td>12345678</td>\n",
       "      <td>544</td>\n",
       "      <td>1018</td>\n",
       "      <td>0.034947</td>\n",
       "      <td>0.145407</td>\n",
       "      <td>0.035200</td>\n",
       "      <td>0.038649</td>\n",
       "      <td>543</td>\n",
       "      <td>1017</td>\n",
       "      <td>0.110460</td>\n",
       "      <td>0.010140</td>\n",
       "      <td>10.893028</td>\n",
       "    </tr>\n",
       "    <tr>\n",
       "      <th>10</th>\n",
       "      <td>5</td>\n",
       "      <td>12345678</td>\n",
       "      <td>413</td>\n",
       "      <td>877</td>\n",
       "      <td>0.034000</td>\n",
       "      <td>0.143375</td>\n",
       "      <td>0.036738</td>\n",
       "      <td>0.036957</td>\n",
       "      <td>412</td>\n",
       "      <td>876</td>\n",
       "      <td>0.109375</td>\n",
       "      <td>0.011461</td>\n",
       "      <td>9.543080</td>\n",
       "    </tr>\n",
       "    <tr>\n",
       "      <th>13</th>\n",
       "      <td>6</td>\n",
       "      <td>12345678</td>\n",
       "      <td>378</td>\n",
       "      <td>783</td>\n",
       "      <td>0.021092</td>\n",
       "      <td>0.169053</td>\n",
       "      <td>0.026848</td>\n",
       "      <td>0.034141</td>\n",
       "      <td>377</td>\n",
       "      <td>782</td>\n",
       "      <td>0.147961</td>\n",
       "      <td>0.010718</td>\n",
       "      <td>13.805136</td>\n",
       "    </tr>\n",
       "  </tbody>\n",
       "</table>\n",
       "</div>"
      ],
      "text/plain": [
       "    n_ind_w_nota  position_on_evm_ind_lstbut2mrkr  count_pre  count_post  \\\n",
       "1              2                         12345678        627        1036   \n",
       "4              3                         12345678        576        1118   \n",
       "7              4                         12345678        544        1018   \n",
       "10             5                         12345678        413         877   \n",
       "13             6                         12345678        378         783   \n",
       "\n",
       "    mean_zi_pre  mean_zi_post  var_zi_pre  var_zi_post  deg_free_pre  \\\n",
       "1      0.057981      0.074292    0.061057     0.050542           626   \n",
       "4      0.051068      0.116012    0.051256     0.045261           575   \n",
       "7      0.034947      0.145407    0.035200     0.038649           543   \n",
       "10     0.034000      0.143375    0.036738     0.036957           412   \n",
       "13     0.021092      0.169053    0.026848     0.034141           377   \n",
       "\n",
       "    deg_free_post      nume      deno     t_stat  \n",
       "1            1035  0.016311  0.012098   1.348213  \n",
       "4            1117  0.064944  0.011387   5.703398  \n",
       "7            1017  0.110460  0.010140  10.893028  \n",
       "10            876  0.109375  0.011461   9.543080  \n",
       "13            782  0.147961  0.010718  13.805136  "
      ]
     },
     "execution_count": 9,
     "metadata": {},
     "output_type": "execute_result"
    }
   ],
   "source": [
    "#calculates the count, mean and variance of zi score in the dataset\n",
    "#pre\n",
    "count_pre = df_ttest[['n_ind_w_nota','index','position_on_evm_ind_lstbut2mrkr']][df_ttest['pre_post_nota_ind']==0].groupby(['n_ind_w_nota','position_on_evm_ind_lstbut2mrkr']).count().reset_index()\n",
    "count_pre.rename(columns={'index':'count_pre'}, inplace = True)\n",
    "#post\n",
    "count_post = df_ttest[['n_ind_w_nota','index','position_on_evm_ind_lstbut2mrkr']][df_ttest['pre_post_nota_ind']==1].groupby(['n_ind_w_nota','position_on_evm_ind_lstbut2mrkr']).count().reset_index()\n",
    "count_post.drop(columns={'n_ind_w_nota', 'position_on_evm_ind_lstbut2mrkr'}, inplace = True)\n",
    "count_post.rename(columns={'index':'count_post'}, inplace = True)\n",
    "\n",
    "#pre\n",
    "zi_pre = df_ttest[['n_ind_w_nota','zi','position_on_evm_ind_lstbut2mrkr']][df_ttest['pre_post_nota_ind']==0].groupby(['n_ind_w_nota','position_on_evm_ind_lstbut2mrkr']).mean().reset_index()\n",
    "zi_pre.drop(columns={'n_ind_w_nota','position_on_evm_ind_lstbut2mrkr'}, inplace = True)\n",
    "zi_pre.rename(columns={'zi':'mean_zi_pre'}, inplace = True)\n",
    "#post\n",
    "zi_post = df_ttest[['n_ind_w_nota','zi','position_on_evm_ind_lstbut2mrkr']][df_ttest['pre_post_nota_ind']==1].groupby(['n_ind_w_nota','position_on_evm_ind_lstbut2mrkr']).mean().reset_index()\n",
    "zi_post.drop(columns={'n_ind_w_nota','position_on_evm_ind_lstbut2mrkr'}, inplace = True)\n",
    "zi_post.rename(columns={'zi':'mean_zi_post'}, inplace = True)\n",
    "\n",
    "#pre\n",
    "var_pre = df_ttest[['n_ind_w_nota','zi','position_on_evm_ind_lstbut2mrkr']][df_ttest['pre_post_nota_ind']==0].groupby(['n_ind_w_nota','position_on_evm_ind_lstbut2mrkr']).var().reset_index()\n",
    "var_pre.drop(columns={'n_ind_w_nota','position_on_evm_ind_lstbut2mrkr'}, inplace = True)\n",
    "var_pre.rename(columns={'zi':'var_zi_pre'}, inplace = True)\n",
    "#post\n",
    "var_post = df_ttest[['n_ind_w_nota','zi','position_on_evm_ind_lstbut2mrkr']][df_ttest['pre_post_nota_ind']==1].groupby(['n_ind_w_nota','position_on_evm_ind_lstbut2mrkr']).var().reset_index()\n",
    "var_post.drop(columns={'n_ind_w_nota','position_on_evm_ind_lstbut2mrkr'}, inplace = True)\n",
    "var_post.rename(columns={'zi':'var_zi_post'}, inplace = True)\n",
    "\n",
    "#concatenates dataframes\n",
    "df_fin = pd.concat([count_pre,count_post,zi_pre,zi_post,var_pre,var_post], axis=1)\n",
    "\n",
    "#calculates degrees of freedom pre and post nota\n",
    "df_fin['deg_free_pre'] = df_fin['count_pre'] - 1\n",
    "df_fin['deg_free_post'] = df_fin['count_post'] - 1\n",
    "\n",
    "#calculates test statistic\n",
    "df_fin['nume'] = df_fin['mean_zi_post'] - df_fin['mean_zi_pre']\n",
    "df_fin['deno'] = np.sqrt((df_fin['var_zi_pre'] / df_fin['deg_free_pre'])+(df_fin['var_zi_post'] / df_fin['deg_free_post']))\n",
    "df_fin['t_stat'] = df_fin['nume']/df_fin['deno']\n",
    "\n",
    "df_fin[df_fin['position_on_evm_ind_lstbut2mrkr']==12345678]"
   ]
  },
  {
   "cell_type": "code",
   "execution_count": 4,
   "metadata": {},
   "outputs": [],
   "source": [
    "#calculates the final statistic for the paired test\n",
    "# df_fin['nume'] = df_fin['mean_zi_post'] - df_fin['mean_zi_pre']\n",
    "# df_fin['deno'] = np.sqrt(((df_fin['mean_zi_post']*(1-df_fin['mean_zi_post']))/df_fin['count_post']) + ((df_fin['mean_zi_pre']*(1-df_fin['mean_zi_pre']))/df_fin['count_pre']))\n",
    "# df_fin['stat'] = df_fin['nume']/df_fin['deno']"
   ]
  },
  {
   "cell_type": "code",
   "execution_count": 5,
   "metadata": {},
   "outputs": [],
   "source": [
    "# #calculates the p-value for the statistic from std normal distribution\n",
    "# df_fin['p_val'] = scipy.stats.norm.sf(df_fin['stat'])"
   ]
  },
  {
   "cell_type": "code",
   "execution_count": 6,
   "metadata": {},
   "outputs": [],
   "source": [
    "# df_fin"
   ]
  },
  {
   "cell_type": "code",
   "execution_count": 10,
   "metadata": {},
   "outputs": [],
   "source": [
    "df_fin.to_csv(r\"D:\\MSE\\Dissertation\\Rebirth\\NOTA_Github_publication\\Analysis\\paired_ttest.csv\", index = False)"
   ]
  },
  {
   "cell_type": "markdown",
   "metadata": {},
   "source": [
    "## T-Test Regression way"
   ]
  },
  {
   "cell_type": "code",
   "execution_count": 23,
   "metadata": {},
   "outputs": [],
   "source": [
    "#makes dummy attribute for last position\n",
    "df_ttest['last_position_dummy'] = 0\n",
    "df_ttest.loc[df_ttest['position_on_evm_ind_lstbut2mrkr']==12345678, 'last_position_dummy'] = 1\n",
    "df_ttest.drop(columns = ['index'], inplace=True)"
   ]
  },
  {
   "cell_type": "code",
   "execution_count": 24,
   "metadata": {},
   "outputs": [],
   "source": [
    "#df_ttest.to_csv(r\"D:\\MSE\\Dissertation\\Rebirth\\NOTA_Github_publication\\Analysis\\df_ttest.csv\", index=False)"
   ]
  },
  {
   "cell_type": "code",
   "execution_count": 25,
   "metadata": {},
   "outputs": [
    {
     "data": {
      "text/html": [
       "<div>\n",
       "<style scoped>\n",
       "    .dataframe tbody tr th:only-of-type {\n",
       "        vertical-align: middle;\n",
       "    }\n",
       "\n",
       "    .dataframe tbody tr th {\n",
       "        vertical-align: top;\n",
       "    }\n",
       "\n",
       "    .dataframe thead th {\n",
       "        text-align: right;\n",
       "    }\n",
       "</style>\n",
       "<table border=\"1\" class=\"dataframe\">\n",
       "  <thead>\n",
       "    <tr style=\"text-align: right;\">\n",
       "      <th></th>\n",
       "      <th>position_on_evm_ind_lstbut2mrkr</th>\n",
       "      <th>last_position_dummy</th>\n",
       "      <th>pre_post_nota_ind</th>\n",
       "    </tr>\n",
       "  </thead>\n",
       "  <tbody>\n",
       "  </tbody>\n",
       "</table>\n",
       "</div>"
      ],
      "text/plain": [
       "Empty DataFrame\n",
       "Columns: [position_on_evm_ind_lstbut2mrkr, last_position_dummy, pre_post_nota_ind]\n",
       "Index: []"
      ]
     },
     "execution_count": 25,
     "metadata": {},
     "output_type": "execute_result"
    }
   ],
   "source": [
    "#qc\n",
    "df_ttest[['position_on_evm_ind_lstbut2mrkr','last_position_dummy','pre_post_nota_ind']][(df_ttest['position_on_evm_ind_lstbut2mrkr']!=12345678)&(df_ttest['last_position_dummy']==1)]\n",
    "#pass"
   ]
  },
  {
   "cell_type": "code",
   "execution_count": 26,
   "metadata": {},
   "outputs": [],
   "source": [
    "for_reg = df_ttest[['n_ind_w_nota','last_position_dummy','pre_post_nota_ind','zi','position_on_evm_ind']]\n",
    "for_reg.rename(columns = {'zi':'DPSi'}, inplace = True)"
   ]
  },
  {
   "cell_type": "code",
   "execution_count": 27,
   "metadata": {},
   "outputs": [],
   "source": [
    "for_reg['int_lastposition_prepostind'] = for_reg['last_position_dummy']*for_reg['pre_post_nota_ind']"
   ]
  },
  {
   "cell_type": "code",
   "execution_count": 29,
   "metadata": {},
   "outputs": [
    {
     "name": "stdout",
     "output_type": "stream",
     "text": [
      "                            OLS Regression Results                            \n",
      "==============================================================================\n",
      "Dep. Variable:                   DPSi   R-squared:                       0.096\n",
      "Model:                            OLS   Adj. R-squared:                  0.096\n",
      "Method:                 Least Squares   F-statistic:                     680.4\n",
      "Date:                Mon, 19 Dec 2022   Prob (F-statistic):               0.00\n",
      "Time:                        19:33:35   Log-Likelihood:                 3954.6\n",
      "No. Observations:               20447   AIC:                            -7901.\n",
      "Df Residuals:                   20443   BIC:                            -7870.\n",
      "Df Model:                           3                                         \n",
      "Covariance Type:                  HC3                                         \n",
      "=======================================================================================\n",
      "                          coef    std err          z      P>|z|      [0.025      0.975]\n",
      "---------------------------------------------------------------------------------------\n",
      "const                  -0.0779      0.007    -11.875      0.000      -0.091      -0.065\n",
      "n_ind_w_nota            0.0063      0.003      1.840      0.066      -0.000       0.013\n",
      "last_position_dummy     0.1222      0.006     21.264      0.000       0.111       0.134\n",
      "position_on_evm_ind     0.0077      0.003      2.256      0.024       0.001       0.014\n",
      "==============================================================================\n",
      "Omnibus:                     2832.376   Durbin-Watson:                   2.649\n",
      "Prob(Omnibus):                  0.000   Jarque-Bera (JB):             5043.956\n",
      "Skew:                           0.909   Prob(JB):                         0.00\n",
      "Kurtosis:                       4.618   Cond. No.                         35.8\n",
      "==============================================================================\n",
      "\n",
      "Notes:\n",
      "[1] Standard Errors are heteroscedasticity robust (HC3)\n"
     ]
    },
    {
     "name": "stderr",
     "output_type": "stream",
     "text": [
      "C:\\Users\\merag\\anaconda3\\lib\\site-packages\\statsmodels\\base\\model.py:127: ValueWarning: unknown kwargs ['M']\n",
      "  warnings.warn(msg, ValueWarning)\n"
     ]
    }
   ],
   "source": [
    "#Trying out regression \n",
    "#Running a simple regression using Statsmodels library\n",
    "import statsmodels.api as sm\n",
    "from statsmodels.iolib.summary2 import summary_col\n",
    "X = for_reg[['n_ind_w_nota','last_position_dummy','position_on_evm_ind']]\n",
    "X = sm.add_constant(X)\n",
    "Y = for_reg[['DPSi']]\n",
    "model = sm.OLS(Y,X,  M=sm.robust.norms.AndrewWave()).fit(cov_type='HC3')\n",
    "print_model = model.summary()\n",
    "print(print_model)"
   ]
  },
  {
   "cell_type": "code",
   "execution_count": 30,
   "metadata": {},
   "outputs": [
    {
     "name": "stdout",
     "output_type": "stream",
     "text": [
      "\n",
      "============================\n",
      "                      DPSi  \n",
      "----------------------------\n",
      "const               -0.0779 \n",
      "                    (0.0066)\n",
      "n_ind_w_nota        0.0063  \n",
      "                    (0.0034)\n",
      "last_position_dummy 0.1222  \n",
      "                    (0.0057)\n",
      "position_on_evm_ind 0.0077  \n",
      "                    (0.0034)\n",
      "R-squared           0.0962  \n",
      "R-squared Adj.      0.0961  \n",
      "============================\n",
      "Standard errors in\n",
      "parentheses.\n"
     ]
    }
   ],
   "source": [
    "res = summary_col([model])\n",
    "print(res)\n",
    "\n",
    "#model 1: dps -- const+last positoin dummy + num ind w nota\n",
    "#model 2: dps -- const+last positoin dummy + num ind w nota + pre post ind"
   ]
  },
  {
   "cell_type": "code",
   "execution_count": 31,
   "metadata": {},
   "outputs": [],
   "source": [
    "with open(r'D:\\MSE\\Dissertation\\Rebirth\\NOTA_Github_publication\\Analysis\\ttest_reg.csv', 'w') as fh:\n",
    "    fh.write(print_model.as_csv())\n",
    "\n",
    "with open(r'D:\\MSE\\Dissertation\\Rebirth\\NOTA_Github_publication\\Analysis\\ttest_reg.txt', 'w') as fh:\n",
    "    fh.write(print_model.as_text())"
   ]
  }
 ],
 "metadata": {
  "kernelspec": {
   "display_name": "Python 3 (ipykernel)",
   "language": "python",
   "name": "python3"
  },
  "language_info": {
   "codemirror_mode": {
    "name": "ipython",
    "version": 3
   },
   "file_extension": ".py",
   "mimetype": "text/x-python",
   "name": "python",
   "nbconvert_exporter": "python",
   "pygments_lexer": "ipython3",
   "version": "3.9.12"
  }
 },
 "nbformat": 4,
 "nbformat_minor": 4
}
